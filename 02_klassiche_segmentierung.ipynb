{
 "cells": [
  {
   "cell_type": "markdown",
   "metadata": {},
   "source": [
    "# Klassische Segmentierung\n",
    "Unter klassischer Segmentierung verstehen wir Methoden der Bildanalyse, die nicht auf den Konzepten von Deep Learning basieren. Hier werden meist Filter und Thresholds verwendet. Hinzu kommen mathematische Operationen mit Bildern und morphologische Operationen.\n",
    "### Filter\n",
    "Bei einem Filter wird das Bild in irgendeiner weise weiterverarbeitet. Filter sind meist lokal, d.h. der Wert des neuen Bildes hängt nicht von allen Pixeln des Ausgangsbildes ab, sondern nur von wenigen benachbarten Pixeln. Meist werden Filter daher über Faltungen definiert. Dies sind lineare Filter, bspw. Mean- oder Gauß-Filter. Es gibt jedoch auch Min- oder Median-Filter. Diese sind auch über einen Kernel definiert, können jedoch nicht als Faltung dargestellt werden. Darüberhinaus sind diese nicht-linear.\n",
    "### Thresholds\n",
    "Mit Hilfe von Thresholds können Bilder diskretisiert werden. Meist werden sie binärisiert. D.h. aus einem Graustufenbild entsteht ein Bild, in dem jedes Pixel nur noch an oder aus sein kann. Für das Thresholding wird meist ein Wert vorgegeben, alle Pixel, deren Intensität darunter liegt, werden auf 0, alle anderen auf 1 gesetzt. Es gibt verschiedene Methoden, um diesen Wert automatisiert zu bestimmen. Meist basieren diese Methoden auf dem Histogram eines Bildes.\n",
    "### Mathematische Operationen\n",
    "Oftmals werden Bilder gefiltert und dann mit einander addiert oder multipliziert. So kann bspw. Rauschen oder das Hintergrundsignal eliminiert werden. Bei diesen Operationen sollte unbedingt auf den Datentyp der Bilder geachtet werden!!!\n",
    "### morphologische Operationen\n",
    "Auf Binärbildern kann man auch Min- und Max-Filter anwenden. Diese Operationen heißen hier dann Erosion und Dilatation. Durch Hintereinanderausführen kann man daraus auch die morphologischen Operationen Opening und Closing definieren.\n",
    "\n",
    "## Workflow\n",
    "Der klassische Workflow sieht meist vor, dass ein Bild mit Hilfe eines Filters entrauscht wird. Danach werden durch einen weiteren Filter und mathematische Operationen die Kanten des Bildes hervorgehoben. Anschließend wird das Bild mittels Thresholding binärisiert. Schlussendlich wird das Binärbild nochmals bearbeitet."
   ]
  },
  {
   "cell_type": "code",
   "execution_count": null,
   "metadata": {},
   "outputs": [],
   "source": [
    "import scipy\n",
    "import skimage\n",
    "import skimage.filters\n",
    "import numpy as np\n",
    "import ipywidgets as widgets\n",
    "import matplotlib.pyplot as plt\n",
    "%matplotlib inline\n",
    "%config InlineBackend.figure_format = 'retina'\n",
    "\n",
    "from tqdm import tqdm\n",
    "from glob import glob\n",
    "from tifffile import imread\n",
    "from skimage.morphology import disk\n",
    "\n",
    "from stardist import random_label_cmap\n",
    "from stardist.matching import matching_dataset\n",
    "from csbdeep.utils import Path\n",
    "lbl_cmap = random_label_cmap()"
   ]
  },
  {
   "cell_type": "code",
   "execution_count": null,
   "metadata": {},
   "outputs": [],
   "source": [
    "# Damit wir den Effekt von Filtern nachvollziehen können schreiben wir eine kleine Funktion,\n",
    "# um mehrere Bilder mit verschiedenen Titeln nebeneinander darstellen zu können.\n",
    "def plot_effect(imgs, labels, cmap=None):\n",
    "    cols = len(imgs)\n",
    "    rows = len(imgs[0])\n",
    "    fig, axes = plt.subplots(cols, rows, figsize=[16, cols*5])\n",
    "    for i in range(cols):\n",
    "        for j in range(rows):\n",
    "            try:\n",
    "                ax = axes[i, j]\n",
    "            except IndexError:\n",
    "                ax = axes[j]\n",
    "            ax.imshow(imgs[i][j], cmap=cmap)\n",
    "            ax.axis(\"off\")\n",
    "            ax.set_title(labels[i][j])"
   ]
  },
  {
   "cell_type": "markdown",
   "metadata": {},
   "source": [
    "Wir laden wieder unsere Trainings-Daten und benutzen für den weiteren Verlauf einen Ausschnitt des ersten Bilds."
   ]
  },
  {
   "cell_type": "code",
   "execution_count": null,
   "metadata": {},
   "outputs": [],
   "source": [
    "X_glob = sorted(glob('/extdata/readonly/f-prak-v15/e-coli-swarming/train/input/*.tif'))\n",
    "Y_glob = sorted(glob('/extdata/readonly/f-prak-v15/e-coli-swarming/train/labels/*.tif'))\n",
    "X = [x.astype(int) for x in list(map(imread, X_glob))]\n",
    "Y = [x.astype(int) for x in list(map(imread, Y_glob))]\n",
    "sly = slice(380, 508)\n",
    "slx = slice(380, 508)\n",
    "img, lbl = X[0][sly, slx], Y[0][sly, slx]"
   ]
  },
  {
   "cell_type": "code",
   "execution_count": null,
   "metadata": {},
   "outputs": [],
   "source": [
    "skimage.__version__"
   ]
  },
  {
   "cell_type": "code",
   "execution_count": null,
   "metadata": {},
   "outputs": [],
   "source": [
    "median = skimage.filters.median(img, disk(5))\n",
    "mean = scipy.ndimage.filters.uniform_filter(img, 5)\n",
    "gauss = skimage.filters.gaussian(img, 2)\n",
    "diff_gauss = skimage.filters.difference_of_gaussians(img, 1, 20)\n",
    "black_tophat = scipy.ndimage.morphology.black_tophat(img, 5)\n",
    "white_tophat = scipy.ndimage.morphology.white_tophat(img, 5)\n",
    "plot_effect(\n",
    "    [\n",
    "        [img, median, img-median],\n",
    "        [img, mean, img-mean],\n",
    "        [img, gauss, img-gauss],\n",
    "        [img, diff_gauss, img-diff_gauss],\n",
    "        [img, black_tophat, img-black_tophat],\n",
    "        [img, white_tophat, img-white_tophat],\n",
    "    ],\n",
    "    [\n",
    "        [\"input\", \"median filter\", \"input - median filter\"],\n",
    "        [\"input\", \"mean filter\", \"input - mean filter\"],\n",
    "        [\"input\", \"gauss filter\", \"input - gauss filter\"],\n",
    "        [\"input\", \"diff gauss filter\", \"input - diff gauss filter\"],\n",
    "        [\"input\", \"black_tophat filter\", \"input - black_tophat filter\"],\n",
    "        [\"input\", \"white_tophat filter\", \"input - white_tophat filter\"],\n",
    "    ]\n",
    ")"
   ]
  },
  {
   "cell_type": "code",
   "execution_count": null,
   "metadata": {},
   "outputs": [],
   "source": [
    "plt.hist(img.flatten(), bins=50)\n",
    "None;"
   ]
  },
  {
   "cell_type": "code",
   "execution_count": null,
   "metadata": {},
   "outputs": [],
   "source": [
    "imgs = []\n",
    "labels = []\n",
    "low_sigmas = [1, 2, 3, 4, 5, 10]\n",
    "high_sigma = 20\n",
    "for low_sigma in low_sigmas:\n",
    "    diff_gauss = skimage.filters.difference_of_gaussians(img, low_sigma, high_sigma)\n",
    "    imgs.append([\n",
    "        img, diff_gauss, img-diff_gauss\n",
    "    ])\n",
    "    labels.append([\n",
    "        \"input\",\n",
    "        \"low_sigma={}, high_sigma={}\".format(low_sigma, high_sigma),\n",
    "        \"input - diff_gauss\"\n",
    "    ])\n",
    "plot_effect(imgs, labels)"
   ]
  },
  {
   "cell_type": "code",
   "execution_count": null,
   "metadata": {
    "scrolled": false
   },
   "outputs": [],
   "source": [
    "imgs = []\n",
    "labels = []\n",
    "sizes = [1, 2, 3, 4, 5, 6, 7, 8, 9, 10]\n",
    "for size in sizes:\n",
    "    white_tophat = scipy.ndimage.morphology.white_tophat(img, size)\n",
    "    median = skimage.filters.median(white_tophat, disk(5))\n",
    "    imgs.append([\n",
    "        img, white_tophat, median\n",
    "    ])\n",
    "    labels.append([\n",
    "        \"input\",\n",
    "        \"size = {}\".format(size),\n",
    "        \"median of tophat\"\n",
    "    ])\n",
    "plot_effect(imgs, labels)"
   ]
  },
  {
   "cell_type": "code",
   "execution_count": null,
   "metadata": {},
   "outputs": [],
   "source": [
    "tophat = scipy.ndimage.morphology.white_tophat(tmp_img, 10)\n",
    "tophat_median = skimage.filters.median(tophat, disk(5))\n",
    "plt.figure(figsize=[16, 10])\n",
    "plt.subplot(211)\n",
    "plt.hist(img.flatten(), bins=50)\n",
    "plt.subplot(212)\n",
    "plt.hist(np.exp(tophat.flatten()*1e16), bins=50)\n",
    "None;"
   ]
  },
  {
   "cell_type": "code",
   "execution_count": null,
   "metadata": {
    "scrolled": true
   },
   "outputs": [],
   "source": [
    "tmp_img = skimage.filters.gaussian(img, 2)\n",
    "imgs = []\n",
    "labels = []\n",
    "sizes = [1, 2, 3, 4, 5, 6, 7, 8, 9, 10]\n",
    "for size in sizes:\n",
    "    white_tophat = scipy.ndimage.morphology.white_tophat(tmp_img, 10)\n",
    "    black_tophat = scipy.ndimage.morphology.black_tophat(tmp_img, size)\n",
    "    #black_tophat = skimage.filters.median(white_tophat, disk(5))\n",
    "    imgs.append([\n",
    "        tmp_img, white_tophat, black_tophat, black_tophat+white_tophat, white_tophat-black_tophat\n",
    "    ])\n",
    "    labels.append([\n",
    "        \"size = {}\".format(size),\n",
    "        \"white tophat\", \"black tophat\", \"sum\", \"diff\"\n",
    "    ])\n",
    "plot_effect(imgs, labels)"
   ]
  },
  {
   "cell_type": "code",
   "execution_count": null,
   "metadata": {},
   "outputs": [],
   "source": [
    "gauss = skimage.filters.gaussian(img, 2)\n",
    "white_tophat = scipy.ndimage.morphology.white_tophat(gauss, 10)\n",
    "thresh = skimage.filters.threshold_otsu(white_tophat)\n",
    "binary = white_tophat > thresh\n",
    "plot_effect([[img, gauss, white_tophat, binary]], [[\"input\", \"gauss\", \"white_tophat\", \"otsu\"]])"
   ]
  },
  {
   "cell_type": "code",
   "execution_count": null,
   "metadata": {},
   "outputs": [],
   "source": [
    "tmp_img = X[0][200:800, 200:800]\n",
    "gt = Y[0][200:800, 200:800]\n",
    "gauss = skimage.filters.gaussian(tmp_img, 2)\n",
    "white_tophat = scipy.ndimage.morphology.white_tophat(gauss, 10)\n",
    "thresh = skimage.filters.threshold_otsu(white_tophat)\n",
    "binary = white_tophat > thresh\n",
    "labelmap = skimage.measure.label(binary)\n",
    "plot_effect([[tmp_img, labelmap, gt]], [[\"input\", \"seg\", \"label\"]])"
   ]
  },
  {
   "cell_type": "code",
   "execution_count": null,
   "metadata": {},
   "outputs": [],
   "source": [
    "region_gt = skimage.measure.regionprops(gt)\n",
    "region_seg = skimage.measure.regionprops(labelmap)\n",
    "print(len(region_gt))\n",
    "print(len(region_seg))"
   ]
  },
  {
   "cell_type": "code",
   "execution_count": null,
   "metadata": {},
   "outputs": [],
   "source": [
    "taus = [0.1, 0.2, 0.3, 0.4, 0.5, 0.6, 0.7, 0.8, 0.9]\n",
    "stats = [matching_dataset(gt, labelmap, thresh=t, show_progress=False) for t in tqdm(taus)]"
   ]
  },
  {
   "cell_type": "code",
   "execution_count": null,
   "metadata": {},
   "outputs": [],
   "source": [
    "fig, (ax1,ax2) = plt.subplots(1,2, figsize=(15,5))\n",
    "\n",
    "for m in ('precision', 'recall', 'accuracy', 'f1', 'mean_true_score'):\n",
    "    ax1.plot(taus, [s._asdict()[m] for s in stats], '.-', lw=2, label=m)\n",
    "ax1.set_xlabel(r'IoU threshold $\\tau$')\n",
    "ax1.set_ylabel('Metric value')\n",
    "ax1.grid()\n",
    "ax1.legend()\n",
    "\n",
    "for m in ('fp', 'tp', 'fn'):\n",
    "    ax2.plot(taus, [s._asdict()[m] for s in stats], '.-', lw=2, label=m)\n",
    "ax2.set_xlabel(r'IoU threshold $\\tau$')\n",
    "ax2.set_ylabel('Number #')\n",
    "ax2.grid()\n",
    "ax2.legend();"
   ]
  },
  {
   "cell_type": "code",
   "execution_count": null,
   "metadata": {},
   "outputs": [],
   "source": []
  }
 ],
 "metadata": {
  "kernelspec": {
   "display_name": "Python 3",
   "language": "python",
   "name": "python3"
  },
  "language_info": {
   "codemirror_mode": {
    "name": "ipython",
    "version": 3
   },
   "file_extension": ".py",
   "mimetype": "text/x-python",
   "name": "python",
   "nbconvert_exporter": "python",
   "pygments_lexer": "ipython3",
   "version": "3.7.6"
  }
 },
 "nbformat": 4,
 "nbformat_minor": 4
}
