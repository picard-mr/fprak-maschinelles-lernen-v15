{
 "cells": [
  {
   "cell_type": "markdown",
   "metadata": {},
   "source": [
    "# Klassische Segmentierung\n",
    "Unter klassischer Segmentierung verstehen wir Methoden der Bildanalyse, die nicht auf den Konzepten von Deep Learning basieren. Hier werden meist Filter und Thresholds verwendet. Hinzu kommen mathematische Operationen mit Bildern und morphologische Operationen.\n",
    "### Filter\n",
    "Bei einem Filter wird das Bild in irgendeiner weise weiterverarbeitet. Filter sind meist lokal, d.h. der Wert des neuen Bildes hängt nicht von allen Pixeln des Ausgangsbildes ab, sondern nur von wenigen benachbarten Pixeln. Meist werden Filter daher über Faltungen definiert. Dies sind lineare Filter, bspw. Mean- oder Gauß-Filter. Es gibt jedoch auch Min- oder Median-Filter. Diese sind auch über einen Kernel definiert, können jedoch nicht als Faltung dargestellt werden. Darüberhinaus sind diese nicht-linear.\n",
    "### Thresholds\n",
    "Mit Hilfe von Thresholds können Bilder diskretisiert werden. Meist werden sie binärisiert. D.h. aus einem Graustufenbild entsteht ein Bild, in dem jedes Pixel nur noch an oder aus sein kann. Für das Thresholding wird meist ein Wert vorgegeben, alle Pixel, deren Intensität darunter liegt, werden auf 0, alle anderen auf 1 gesetzt. Es gibt verschiedene Methoden, um diesen Wert automatisiert zu bestimmen. Meist basieren diese Methoden auf dem Histogram eines Bildes.\n",
    "### Mathematische Operationen\n",
    "Oftmals werden Bilder gefiltert und dann mit einander addiert oder multipliziert. So kann bspw. Rauschen oder das Hintergrundsignal eliminiert werden. Bei diesen Operationen sollte unbedingt auf den Datentyp der Bilder geachtet werden!!!\n",
    "### morphologische Operationen\n",
    "Auf Binärbildern kann man auch Min- und Max-Filter anwenden. Diese Operationen heißen hier dann Erosion und Dilatation. Durch Hintereinanderausführen kann man daraus auch die morphologischen Operationen Opening und Closing definieren.\n",
    "\n",
    "## Workflow\n",
    "Der klassische Workflow sieht meist vor, dass ein Bild mit Hilfe eines Filters entrauscht wird. Danach werden durch einen weiteren Filter und mathematische Operationen die Kanten des Bildes hervorgehoben. Anschließend wird das Bild mittels Thresholding binärisiert. Schlussendlich wird das Binärbild nochmals bearbeitet."
   ]
  },
  {
   "cell_type": "code",
   "execution_count": null,
   "metadata": {},
   "outputs": [],
   "source": [
    "import scipy\n",
    "import skimage\n",
    "import numpy as np\n",
    "import ipywidgets as widgets\n",
    "import matplotlib.pyplot as plt\n",
    "%matplotlib inline\n",
    "%config InlineBackend.figure_format = 'retina'\n",
    "\n",
    "from tqdm import tqdm\n",
    "from glob import glob\n",
    "from tifffile import imread\n",
    "\n",
    "from scipy import ndimage\n",
    "from skimage import filters\n",
    "from skimage.morphology import disk\n",
    "from skimage.measure import label, regionprops\n",
    "\n",
    "from stardist import random_label_cmap\n",
    "from stardist.matching import matching_dataset\n",
    "from csbdeep.utils import Path\n",
    "lbl_cmap = random_label_cmap()"
   ]
  },
  {
   "cell_type": "code",
   "execution_count": null,
   "metadata": {},
   "outputs": [],
   "source": [
    "# Damit wir den Effekt von Filtern nachvollziehen können schreiben wir eine kleine Funktion,\n",
    "# um mehrere Bilder mit verschiedenen Titeln nebeneinander darstellen zu können.\n",
    "def plot_effect(imgs, labels, cmaps=None):\n",
    "    cols = len(imgs)\n",
    "    rows = len(imgs[0])\n",
    "    if cmaps is None:\n",
    "        cmaps = [None,] * rows\n",
    "    fig, axes = plt.subplots(cols, rows, figsize=[16, cols*5])\n",
    "    for i in range(cols):\n",
    "        for j in range(rows):\n",
    "            try:\n",
    "                ax = axes[i, j]\n",
    "            except IndexError:\n",
    "                ax = axes[j]\n",
    "            if not imgs[i][j] is None:\n",
    "                ax.imshow(imgs[i][j], cmap=cmaps[j])\n",
    "                ax.axis(\"off\")\n",
    "                ax.set_title(labels[i][j])\n",
    "            else:\n",
    "                ax.remove()"
   ]
  },
  {
   "cell_type": "markdown",
   "metadata": {},
   "source": [
    "Wir laden wieder unsere Trainings-Daten und benutzen für den weiteren Verlauf einen Ausschnitt des ersten Bilds. Beim Laden der Bilder transformieren wir die uint16 Bilddaten in den int64 Typ. Was bedeutet das?"
   ]
  },
  {
   "cell_type": "code",
   "execution_count": null,
   "metadata": {},
   "outputs": [],
   "source": [
    "X_glob = sorted(glob('/extdata/readonly/f-prak-v15/e-coli-swarming/train/input/*.tif'))\n",
    "Y_glob = sorted(glob('/extdata/readonly/f-prak-v15/e-coli-swarming/train/labels/*.tif'))\n",
    "X = [x.astype(int) for x in list(map(imread, X_glob))]\n",
    "Y = [x.astype(int) for x in list(map(imread, Y_glob))]\n",
    "sly = slice(380, 508)\n",
    "slx = slice(380, 508)\n",
    "img, lbl = X[0][sly, slx], Y[0][sly, slx]"
   ]
  },
  {
   "cell_type": "markdown",
   "metadata": {},
   "source": [
    "## Auswahl an Filtern\n",
    "Im folgenden werden einige Filter auf das Bild angewandt und angezeigt."
   ]
  },
  {
   "cell_type": "code",
   "execution_count": null,
   "metadata": {},
   "outputs": [],
   "source": [
    "median = filters.median(img, disk(4))\n",
    "mean = ndimage.filters.uniform_filter(img, 4)\n",
    "gauss = filters.gaussian(img, 1)\n",
    "diff_gauss = filters.difference_of_gaussians(img, 1, 6)\n",
    "black_tophat = ndimage.morphology.black_tophat(img, 4)\n",
    "white_tophat = ndimage.morphology.white_tophat(img, 4)\n",
    "plot_effect(\n",
    "    [\n",
    "        [img, median, img-median],\n",
    "        [img, mean, img-mean],\n",
    "        [img, gauss, img-gauss],\n",
    "        [img, diff_gauss, img-diff_gauss],\n",
    "        [img, black_tophat, img-black_tophat],\n",
    "        [img, white_tophat, img-white_tophat],\n",
    "    ],\n",
    "    [\n",
    "        [\"input\", \"median filter\", \"input - median filter\"],\n",
    "        [\"input\", \"mean filter\", \"input - mean filter\"],\n",
    "        [\"input\", \"gauss filter\", \"input - gauss filter\"],\n",
    "        [\"input\", \"diff gauss filter\", \"input - diff gauss filter\"],\n",
    "        [\"input\", \"black_tophat filter\", \"input - black_tophat filter\"],\n",
    "        [\"input\", \"white_tophat filter\", \"input - white_tophat filter\"],\n",
    "    ]\n",
    ")"
   ]
  },
  {
   "cell_type": "markdown",
   "metadata": {},
   "source": [
    "## Histogramm des Bildes\n",
    "Es ist manchmal auch ganz sinnvoll das Histogramm eines Bildes anzuschauen. Könnt ihr die verschiedenen Bereiche des Histogramms Regionen im Bild zuordnen?"
   ]
  },
  {
   "cell_type": "code",
   "execution_count": null,
   "metadata": {},
   "outputs": [],
   "source": [
    "plt.hist(img.flatten(), bins=50)\n",
    "None;"
   ]
  },
  {
   "cell_type": "markdown",
   "metadata": {},
   "source": [
    "## Entrauschen\n",
    "Wir wählen nun einfach den Gauß-Filter, um das Bild zu entrauschen. Der Gauß-Filter kann nun noch über die Größe Sigma beeinflusst werden. Im Folgenden betrachten wir die entrauschten Bilder für verschiedene Werte für Sigma."
   ]
  },
  {
   "cell_type": "code",
   "execution_count": null,
   "metadata": {
    "scrolled": false
   },
   "outputs": [],
   "source": [
    "imgs = []\n",
    "labels = []\n",
    "sigmas = list(range(1,10))\n",
    "for sigma in sigmas:\n",
    "    gauss = filters.gaussian(img, sigma)\n",
    "    imgs.append([\n",
    "        img, gauss,\n",
    "    ])\n",
    "    labels.append([\n",
    "        \"input\",\n",
    "        \"Gauß Filter, sigma = {}\".format(sigma),\n",
    "    ])\n",
    "plot_effect(imgs, labels)"
   ]
  },
  {
   "cell_type": "markdown",
   "metadata": {},
   "source": [
    "### Wahl von Sigma\n",
    "Aus den obigen Bildern kann man nun einen Wert für Sigma ermittlen. Bei Sigma=1 erscheinen im gefilterten Bild noch recht kleine Strukturen des Hintergrund. Bis Sigma=3 ist das gesamte Bild schon recht verschwommen. Daher wählen wir Sigma=2. Ihr könnt auch andere Filter und andere Sigmas ausprobieren bis ihr ein Ergebnis findet, das euch gefällt.\n",
    "\n",
    "## Zum Spielen\n",
    "Was macht der folgende Code?"
   ]
  },
  {
   "cell_type": "code",
   "execution_count": null,
   "metadata": {
    "scrolled": false
   },
   "outputs": [],
   "source": [
    "# Wir speichern das entrauschte Bild in einer neuen Variable ab, die wir im folgenden weiter verwenden.\n",
    "img_denoise = filters.gaussian(img.astype(float), 2)\n",
    "imgs = []\n",
    "labels = []\n",
    "sizes = list(range(6, 14))\n",
    "for size in sizes:\n",
    "    white_tophat = scipy.ndimage.morphology.white_tophat(img_denoise, size)\n",
    "    median = skimage.filters.median(white_tophat, disk(5))\n",
    "    imgs.append([\n",
    "        img_denoise, white_tophat, median\n",
    "    ])\n",
    "    labels.append([\n",
    "        \"denoised input\",\n",
    "        \"white tophat with size = {}\".format(size),\n",
    "        \"median of tophat\"\n",
    "    ])\n",
    "plot_effect(imgs, labels)"
   ]
  },
  {
   "cell_type": "markdown",
   "metadata": {},
   "source": [
    "## Auswahl einer Tophat Filter Size\n",
    "Wir hatten oben bereits gesehen, dass der white tophat Filter das Innere der Zellen ganz gut hervorgehoben hat, während der Hintergrund des Bildes sehr dunkel wurde. Trotzdem werden beim Tophat Filter auch Strukturen im Hintergrund des Bildes sichtbar. Findet ihr einen Filter mit dem ihr diese Hintergrundstruktur entfernen könnt?\n",
    "\n",
    "## Vergleich der Histogramme\n",
    "Im Folgenden wurde ein white tophat mit Size 10 verwendet. Zudem wird ein Bild nach dem Tophat Filter noch mit einem median Filter versehen. Dann werden die Histogramme der Bilder miteinander verglichen."
   ]
  },
  {
   "cell_type": "code",
   "execution_count": null,
   "metadata": {},
   "outputs": [],
   "source": [
    "tophat = scipy.ndimage.morphology.white_tophat(img_denoise, 10)\n",
    "tophat_median = skimage.filters.median(tophat, disk(5))\n",
    "binsize = 50\n",
    "plt.figure(figsize=[16, 16])\n",
    "plt.subplot(311)\n",
    "plt.hist(img_denoise.flatten(), bins=binsize)\n",
    "plt.subplot(312)\n",
    "plt.hist(tophat.flatten(), bins=binsize)\n",
    "plt.subplot(313)\n",
    "plt.hist(tophat_median.flatten(), bins=binsize)\n",
    "None;"
   ]
  },
  {
   "cell_type": "markdown",
   "metadata": {
    "scrolled": true
   },
   "source": [
    "## Kompletter Ablauf\n",
    "Die nächste Zelle zeigt die einzelnen Tranformationsschritte bis hin zur Segmentierung mittels Otus Thresholding für verschiedene Abläufe."
   ]
  },
  {
   "cell_type": "code",
   "execution_count": null,
   "metadata": {},
   "outputs": [],
   "source": [
    "gauss = skimage.filters.gaussian(img, 2)\n",
    "white_tophat = scipy.ndimage.morphology.white_tophat(gauss, 10)\n",
    "tophat_median = skimage.filters.median(tophat, disk(5))\n",
    "\n",
    "thresh_raw = skimage.filters.threshold_otsu(img)\n",
    "thresh_denoise = skimage.filters.threshold_otsu(gauss)\n",
    "thresh_tophat = skimage.filters.threshold_otsu(white_tophat)\n",
    "thresh_median = skimage.filters.threshold_otsu(tophat_median)\n",
    "\n",
    "binary_raw = label(img > thresh_raw)\n",
    "binary_denoise = label(gauss > thresh_denoise)\n",
    "binary_tophat = label(white_tophat > thresh_tophat)\n",
    "binary_median = label(tophat_median > thresh_median)\n",
    "plot_effect(\n",
    "    [\n",
    "        [img, gauss, white_tophat, tophat_median, binary_median],\n",
    "        [img, gauss, white_tophat, None, binary_tophat],\n",
    "        [img, gauss, None, None, binary_denoise],\n",
    "        [img, None, None, None, binary_raw],\n",
    "    ],\n",
    "    [\n",
    "        [\"input\", \"gauss sigma=2\", \"white_tophat size=10\", \"median size=5\", \"otsu threshold\"],\n",
    "        [\"input\", \"gauss sigma=2\", \"white_tophat size=10\", \"median size=5\", \"otsu threshold\"],\n",
    "        [\"input\", \"gauss sigma=2\", \"white_tophat size=10\", \"median size=5\", \"otsu threshold\"],\n",
    "        [\"input\", \"gauss sigma=2\", \"white_tophat size=10\", \"median size=5\", \"otsu threshold\"],\n",
    "    ],\n",
    "    [None, None, None, None, lbl_cmap]\n",
    ")"
   ]
  },
  {
   "cell_type": "markdown",
   "metadata": {},
   "source": [
    "## Vergleich mit Ground Truth Labeln\n",
    "Nun betrachten wir einen größeren Ausschnitt des Bildes und vergleichen es mit unseren von Hand annotierten Labels. Wir schreiben eine Funktion, um aus einem Bild nur noch die fertige Segmentierung zu erhalten. Um einen schnellen Eindruck für die Qualität eines Segmentier-Algorithmus zu bekommen, kann man auch vergleichen, wie viele einzelne Objekte entdeckt worden sind. Dazu benutzen wir die Funktion [regionprops](https://scikit-image.org/docs/dev/api/skimage.measure.html#skimage.measure.regionprops).\n",
    "\n",
    "### Aufgabe 2-0\n",
    "Schreibt die Funktion segment so um, dass sie die Segmentierung verwendet, die ihr für sinnvoll und gut haltet."
   ]
  },
  {
   "cell_type": "code",
   "execution_count": null,
   "metadata": {},
   "outputs": [],
   "source": [
    "def segment(x):\n",
    "    gauss = skimage.filters.gaussian(x, 2)\n",
    "    white_tophat = scipy.ndimage.morphology.white_tophat(gauss, 10)\n",
    "    thresh = skimage.filters.threshold_otsu(white_tophat)\n",
    "    binary = white_tophat > thresh\n",
    "    labelmap = label(binary)\n",
    "    return labelmap\n",
    "\n",
    "slx = slice(200, 800)\n",
    "sly = slice(200, 800)\n",
    "i = 0\n",
    "x = X[i][sly, slx]\n",
    "gt = Y[i][sly, slx]\n",
    "seg = segment(x)\n",
    "region_gt = skimage.measure.regionprops(gt)\n",
    "region_seg = skimage.measure.regionprops(seg)\n",
    "\n",
    "for name, arr in zip([\"Segmentierung\", \"Labels\"], [region_seg, gt]):\n",
    "    print(\"Anzahl Objekte in {}: {}\".format(name, len(arr)))\n",
    "\n",
    "plot_effect([[x, seg, gt]], [[\"input\", \"seg\", \"label\"]], [None, lbl_cmap, lbl_cmap])"
   ]
  },
  {
   "cell_type": "markdown",
   "metadata": {},
   "source": [
    "## Aufgabe 2-1\n",
    "Benutzt die Funktion aus dem ersten Notebook, um die Segmentierung über das Inputbild zu legen. In welchen Regionen funktioniert die Segmentierung gut? Wo ist sie schlecht? Welche Probleme fallen bei der Segmentierung auf?"
   ]
  },
  {
   "cell_type": "code",
   "execution_count": null,
   "metadata": {},
   "outputs": [],
   "source": []
  },
  {
   "cell_type": "markdown",
   "metadata": {},
   "source": [
    "## Aufagbe 2-2\n",
    "Schreibt Funktionen um einige Beurteilungskriterien für binäre Klassifizierer zu erhalten. Berechnet diese Kriterien für das Bild und für die Bilder des Test Sets. Im Folgenden ist eine Funktion beschrieben, die die *true positives* einer Segmentierung und zugehörigem Label berechnet. Diese Funktion arbeitet pixelweise. Eure Funktionen sollen auch nur pixelweise vergleiche anstellen."
   ]
  },
  {
   "cell_type": "code",
   "execution_count": null,
   "metadata": {},
   "outputs": [],
   "source": [
    "def tp(seg, lbl):\n",
    "    \"\"\"\n",
    "    Berechnet die true positives zwischen seg und lbl. Dabei ist lbl die Ground Truth.\n",
    "    seg und lbl sollen Binärbilder vom Typ bool sein.\n",
    "    \"\"\"\n",
    "    # Da die Bilder Binärbilder sind, können wir boolesche Operationen ausführen.\n",
    "    # Ein Pixel ist true positive, wenn es in seg 1 und in lbl 1 ist,\n",
    "    # daher können wir die logische Operation und verwenden und alle übriggebliebenen\n",
    "    # 1 zählen. Das sind dann die true positives\n",
    "    truepos = np.logical_and(seg, lbl)\n",
    "    return np.sum(truepos)\n",
    "\n",
    "# Wir transformieren zunächst unsere lablemaps in bool Arrays\n",
    "seg_b = seg > 0\n",
    "gt_b = gt > 0\n",
    "print(tp(seg_b, gt_b))"
   ]
  },
  {
   "cell_type": "code",
   "execution_count": null,
   "metadata": {},
   "outputs": [],
   "source": []
  }
 ],
 "metadata": {
  "kernelspec": {
   "display_name": "Python 3",
   "language": "python",
   "name": "python3"
  },
  "language_info": {
   "codemirror_mode": {
    "name": "ipython",
    "version": 3
   },
   "file_extension": ".py",
   "mimetype": "text/x-python",
   "name": "python",
   "nbconvert_exporter": "python",
   "pygments_lexer": "ipython3",
   "version": "3.7.6"
  }
 },
 "nbformat": 4,
 "nbformat_minor": 4
}
