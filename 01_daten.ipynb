{
 "cells": [
  {
   "cell_type": "markdown",
   "metadata": {},
   "source": [
    "# Die Daten\n",
    "Die erste Aufgabe soll auch eine kurze Einführung in die Möglichkeiten des Jupyter Notebooks geben. Im Versuch werden wir uns mit Mikroskopbildern beschäftigen. Dies sind die Daten. Wenn man Daten analysieren möchte, ist es immer sinnvoll sich die Daten einmal anzuschauen. Das ist bei Bildern besonders einfach. Zum Anzeigen von Bildern, später auch Plots, werden wir die Python Bibliothek [matplotlib](https://matplotlib.org/) nutzen.\n",
    "## Ordnerstruktur\n",
    "Alle für dieses Praktikum nötigen Daten liegen unter /extdata/readonly/f-park-v15. Dies ist eine Pfad-Angabe. Wir arbeiten auf einem Linux-System. Auf Microsoft PCs gehen Pfade immer vom Laufwerk aus, auf dem die Daten liegen (bspw. C:/Users). In Linux ist der toplevel Pfad, auch root-Pfad genannt, /. In Jupyter Notebooks kann man mit einem vorangestellten Ausrufezeichen (!) in einer Zelle einen Kommandozeilenbefehl eingeben. *ls* ist der Kommandozeilenbefehl mit dem man die Inhalte von Ordnern anzeigen kann. Macht euch kurz mit der Ordnerstruktur der Daten vertraut. Um eine Zelle in Jupyter Notebooks auszuführen klickt oben auf **Run** oder verwendet Strg+Enter, mit Umschalt+Enter führt man die Zelle aus und springt automatisch zur nächsten Zelle."
   ]
  },
  {
   "cell_type": "code",
   "execution_count": null,
   "metadata": {},
   "outputs": [],
   "source": [
    "!ls /extdata/readonly/f-prak-v15"
   ]
  },
  {
   "cell_type": "markdown",
   "metadata": {},
   "source": [
    "## Grund für die Ordnerstruktur\n",
    "Im Versuch werden wir zwei verschiedene Datensätze betrachten: *E. Coli* Swarming und *V. Cholerae* Biofilme. Innerhalb der entsprechenden Ordner gibt es zwei Unterordner: train und test. Auf [Wikipedia](https://en.wikipedia.org/wiki/Training,_validation,_and_test_sets) gibt es eine kurze Erklärung für die Unterscheidung von Trainings-, Validierungs- und Testdatensätze. Im train Ordner befinden sich die Daten mit denen trainiert und validiert wird. Im test Ordner sind dementsprechend die Testdaten. Innerhalb eines Unterordners gibt es wieder die Aufteilung in input und labels. Im input Ordner befinden sich die Mikroskopdaten. Diese sollen nun aufbereitet / analysiert werden. Im labels Ordner befinden sich die korrespondieren Bilder, in denen die einzelnen Zellen von Hand bereits segmentiert wurden. Alle Bilder sind im tif-Format abgespeichert."
   ]
  },
  {
   "cell_type": "markdown",
   "metadata": {},
   "source": [
    "## Python imports\n",
    "Wie in vielen anderen Programmiersprachen, muss man auch in Python zuerst angeben, wo die Funktionen definiert sind, die man verwenden möchte. Dies wird über das import-Statement gemacht.\n",
    "## Jupyter magic und Jupyter ipywidgets\n",
    "In Jupyter Notebooks gibt es zudem Jupyter Magic. Dies sind Zeilen, die mit einem oder zwei Prozentzeichen (%) beginnen. Damit kann das Verhalten des Notebooks gesteuert werden. Beispiele sind die genaue Darstellung und Interkation mit Plots und Bildern. ipywidgets erlauben eine Interkation mit dem Code über Input Felder, wie bspw. Dropdown Menüs.\n",
    "\n",
    "Im Folgenden importieren wir die Module, die wir für dieses Notebook benötigen werden und nutzen Jupyter Magic, um die Interaktion mit matplotlib Darstellungen einzustellen."
   ]
  },
  {
   "cell_type": "code",
   "execution_count": null,
   "metadata": {},
   "outputs": [],
   "source": [
    "# mit einem Doppelkreuz werden in Python Kommentare markiert.\n",
    "# Kommentarzeilen werden nicht ausgeführt und enthalten keinen Code.\n",
    "\n",
    "# numpy ist die Standard Library in Python, um numerische Operationen mit Arrays durchzuführen.\n",
    "import numpy as np\n",
    "import ipywidgets as widgets\n",
    "import matplotlib.pyplot as plt\n",
    "%matplotlib inline\n",
    "%config InlineBackend.figure_format = 'retina'\n",
    "\n",
    "from glob import glob\n",
    "from tifffile import imread\n",
    "\n",
    "from stardist import random_label_cmap\n",
    "from csbdeep.utils import Path\n",
    "lbl_cmap = random_label_cmap()"
   ]
  },
  {
   "cell_type": "code",
   "execution_count": null,
   "metadata": {},
   "outputs": [],
   "source": [
    "# Wir lesen alle Trainingsdaten ein.\n",
    "# Im folgenden Code steht X stets für input und Y für labels.\n",
    "# Mit glob suchen wir einfach nur nach Pfaden, die dem Suchmuster entsprechen.\n",
    "X_glob = sorted(glob('/extdata/readonly/f-prak-v15/e-coli-swarming/train/input/*.tif'))\n",
    "Y_glob = sorted(glob('/extdata/readonly/f-prak-v15/e-coli-swarming/train/labels/*.tif'))\n",
    "def labelname(name):\n",
    "    return name[:-5]+name[-4:]\n",
    "# Wir überprüfen, ob für jede Datei im input auch ein entsprechendes label existiert.\n",
    "# Falls dies nicht der Fall ist, wird hier ein Fehler erzeugt.\n",
    "assert all(Path(x).name == labelname(Path(y).name) for x,y in zip(X_glob, Y_glob))"
   ]
  },
  {
   "cell_type": "code",
   "execution_count": null,
   "metadata": {},
   "outputs": [],
   "source": [
    "# Nun wollen wir auch die Bilder in den entsprechenden Pfaden öffnen.\n",
    "X = list(map(imread, X_glob))\n",
    "Y = list(map(imread, Y_glob))\n",
    "# X und Y sind Listen. Die Elemente der Listen sind die Bilder.\n",
    "imgs_dropdown = widgets.Dropdown(\n",
    "    options=list(range(len(X))),\n",
    "    value=0,\n",
    "    description='Welches Bild wollen wir betrachten?',\n",
    "    style={'description_width': 'initial'}\n",
    "    )\n",
    "display(imgs_dropdown)"
   ]
  },
  {
   "cell_type": "code",
   "execution_count": null,
   "metadata": {},
   "outputs": [],
   "source": [
    "i = imgs_dropdown.value\n",
    "# Wir speichern in img und lbl den input und das label des ausgewählten Bildes.\n",
    "img, lbl = X[i], Y[i]"
   ]
  },
  {
   "cell_type": "markdown",
   "metadata": {},
   "source": [
    "## Bilder als numpy Arrays / Tensoren\n",
    "Bilder werden als numpy-Arrays gespeichert. Meist haben diese Arrays die Dimension 2 oder 3. Dies entspricht den zwei räumlichen Achsen x und y, sowie einer möglichen Dimension für die Farbkanäle. **Wichtig:** Im Gegensatz zur Physik oder Mathematik erfolgt die räumliche Indexierung andersherum. In der Physik schreiben wir für eine Funktion meist f(x, y). In Python greifen wir auf das Pixel eines Bildes via img\\[index_y, index_x\\] zu. Manchmal haben auch Graustufenbilder eine dritte Dimension. Im folgenden lassen wir uns die Dimension und den shape der Bilder anzeigen."
   ]
  },
  {
   "cell_type": "code",
   "execution_count": null,
   "metadata": {},
   "outputs": [],
   "source": [
    "print(\"Dimension von img:\\t\", img.ndim)\n",
    "print(\"Shape von img:\\t\\t\", img.shape)\n",
    "print(\"Dimension von lbl:\\t\", lbl.ndim)\n",
    "print(\"Shape von lbl:\\t\\t\", lbl.shape)"
   ]
  },
  {
   "cell_type": "markdown",
   "metadata": {},
   "source": [
    "Im obigen Code musste viel wiederholt werden und doppelt geschrieben werden. Folgender Code erzeugt die gleiche Ausgabe und ist leichter zu warten:"
   ]
  },
  {
   "cell_type": "code",
   "execution_count": null,
   "metadata": {},
   "outputs": [],
   "source": [
    "for name, arr in zip([\"img\", \"lbl\"], [img, lbl]):\n",
    "    print(\"Dimension von {}:\\t\".format(name), arr.ndim)\n",
    "    print(\"Shape von {}:\\t\\t\".format(name), arr.shape)"
   ]
  },
  {
   "cell_type": "code",
   "execution_count": null,
   "metadata": {
    "code_folding": []
   },
   "outputs": [],
   "source": [
    "# Wir erzeugen eine Figure\n",
    "plt.figure(figsize=(16,10))\n",
    "# In einer Figure kann es verschiedene subplots geben. Mit 121 wählen wir einen dieser Plots aus.\n",
    "# die erste Zahl (1) gibt die Anzahl der Zeilen der Figure an.\n",
    "# Die zweite Zahl (2) ist die Anzhal der Spalten\n",
    "# Mit der dritten Zahl (1) wählen wir den ersten der Subplots aus.\n",
    "plt.subplot(121)\n",
    "# dies ist der Befehl um das Bild darzustellen\n",
    "plt.imshow(img, cmap='gray')\n",
    "#\n",
    "# Was macht dieser Befehl ???\n",
    "#\n",
    "plt.axis('off')\n",
    "# Hiermit wird dem Subplot ein Titel gegeben\n",
    "plt.title('Raw image')\n",
    "plt.subplot(122)\n",
    "plt.imshow(lbl, cmap='gray')\n",
    "#plt.imshow(lbl, cmap=lbl_cmap)\n",
    "plt.axis('off')\n",
    "plt.title('GT labels')\n",
    "None;"
   ]
  },
  {
   "cell_type": "markdown",
   "metadata": {},
   "source": [
    "## Colormaps\n",
    "Graustufenbilder bestehen aus Intensitätswerten, die meist nicht einer physikalischen Größe zugeordnet werden können und daher mit der Einheit a.u. versehen werden. Dies bedeutet auch, dass sie keine \"echte\" Farbe besitzen. Das obige Bild wurde als Graustufenbild dargestellt: große Intensitäten werden weiß, kleine Intensitäten schwarz dargestellt. Könnt ihr erklären, wie die Darstellung des linken Bildes zustande kommt?\n",
    "\n",
    "Mit Colormaps kann die Darstellung von Bildern verändert werden. Dies bedeutet nicht, dass die Intensitäten des zugrundeliegenden Bildes verändert werden. Spielt ein bisschen mit den Colormaps rum. Wenn ihr keine cmap im Befehl imshow angebt, wird die Standard Colormap verwendet. Es gibt auch die Colormaps jet und viridis. Was macht die Colormap lbl_cmap?"
   ]
  },
  {
   "cell_type": "markdown",
   "metadata": {},
   "source": [
    "## Scalebar\n",
    "In der Physik ist die Achsenbeschriftung von Graphen wichtig. Ebenso ist in der Biologie wichtig, dass man in Bildern angibt, wie groß die abgebildeten Strukturen sind. Dies wird mit einer Scalebar gemacht. Dafür gibt es das Modul [matplotlib-scalebar](https://pypi.org/project/matplotlib-scalebar/). Modifiziert die Figure, so dass eine Scalebar angezeigt wird. Die Pixel Size beträgt µm/px.\n",
    "\n",
    "**Randbemerkung:** Was ist der Unterschied zwischen Pixel Size und Auflösung eines Bildes?"
   ]
  },
  {
   "cell_type": "code",
   "execution_count": null,
   "metadata": {},
   "outputs": [],
   "source": [
    "from matplotlib_scalebar.scalebar import ScaleBar\n",
    "\n",
    "scalebar = ScaleBar(0.2) # 1 pixel = 0.2 meter\n",
    "plt.gca().add_artist(scalebar)"
   ]
  },
  {
   "cell_type": "markdown",
   "metadata": {},
   "source": [
    "## Aufgabe 1-1\n",
    "Betrachtet die obige Figure und überlegt, um was es in diesem Versuch geht: Wir wollen Algorithmen entwerfen, mit denen wir obige Segmentierung automatisieren können. Um zu überprüfen, ob die automatische Segmentierung des Computers gut ist, ist es sinnvoll, die Segmentierung mit der Segmentierung zu vergleichen. Im obigen Vergleich ist es jedoch schwer zu erkennen, ob Segmentierung und Input im Detail zusammenpassen. Das wäre einfacher zu erzielen, wenn die Segmentierung über den Input gelegt werden würde. Erstellt eine Figure, in der genau das gemacht wird. Ergänzt zudem eine Möglichkeit nur einen Ausschnit der Bilder darzustellen.\n",
    "### Hinweise (nur falls benötigt)\n",
    "- Durch mehrmaliges Ausführen von imshow, können mehrere Bilder in den gleichen subplot geplottet werden\n",
    "- mit dem Argument alpha kann man die Deckkraft eines Bildes verringern\n",
    "- mit slices und start:stop kann man Array Ausschnitte indizieren"
   ]
  },
  {
   "cell_type": "code",
   "execution_count": null,
   "metadata": {},
   "outputs": [],
   "source": []
  },
  {
   "cell_type": "code",
   "execution_count": null,
   "metadata": {},
   "outputs": [],
   "source": []
  }
 ],
 "metadata": {
  "kernelspec": {
   "display_name": "Python 3",
   "language": "python",
   "name": "python3"
  },
  "language_info": {
   "codemirror_mode": {
    "name": "ipython",
    "version": 3
   },
   "file_extension": ".py",
   "mimetype": "text/x-python",
   "name": "python",
   "nbconvert_exporter": "python",
   "pygments_lexer": "ipython3",
   "version": "3.7.6"
  }
 },
 "nbformat": 4,
 "nbformat_minor": 4
}
