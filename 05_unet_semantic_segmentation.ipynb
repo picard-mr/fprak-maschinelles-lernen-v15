{
 "cells": [
  {
   "cell_type": "markdown",
   "metadata": {},
   "source": [
    "# Semantische Segmentierung mittels U-Net / ResNet\n",
    "Jetzt seid ihr dran. Wir wollen nun ein U-Net oder ResNet nutzen, um eine semantische Segmentierung der Daten vorzunehmen. Den Code müsst ihr selbst schreiben oder zusammen kopieren. Wir gehen wieder wie in den anderen Notebooks vor...\n",
    "## Imports und env setzen"
   ]
  },
  {
   "cell_type": "code",
   "execution_count": null,
   "metadata": {},
   "outputs": [],
   "source": []
  },
  {
   "cell_type": "markdown",
   "metadata": {},
   "source": [
    "## Daten\n",
    "### Daten laden\n",
    "### Labels in semantische label übertragen\n",
    "Zeigt den Unterschied der Labels zwischen *semantic* und *instance segmentation* mit einem Plot.\n",
    "### Validation Set erstellen\n",
    "### Daten Preprocessing\n",
    "#### Reskalieren und / oder normalisieren\n",
    "#### Was ist der Output eures Netzwerks?"
   ]
  },
  {
   "cell_type": "code",
   "execution_count": null,
   "metadata": {},
   "outputs": [],
   "source": []
  },
  {
   "cell_type": "markdown",
   "metadata": {},
   "source": [
    "## Die Netzwerke\n",
    "Erstellt jetzt ein U-Net oder ResNet. Wie ihr das macht ist freigestellt. Wenn ihr die Architektur dynamisch durch Variablen verändern könnt, könnt ihr ganz einfach verschiedene Netzwerke erstellen, trainieren und vergleichen.\n",
    "### Idee:\n",
    "Kann das Netzwerk angeben, wie sicher es sich ist, dass eine Zelle vorhanden ist?"
   ]
  },
  {
   "cell_type": "code",
   "execution_count": null,
   "metadata": {},
   "outputs": [],
   "source": []
  },
  {
   "cell_type": "markdown",
   "metadata": {},
   "source": [
    "## Training"
   ]
  },
  {
   "cell_type": "code",
   "execution_count": null,
   "metadata": {},
   "outputs": [],
   "source": []
  },
  {
   "cell_type": "markdown",
   "metadata": {},
   "source": [
    "## Trainingshistories plotten\n",
    "### Unterschiede der Netzwerke?"
   ]
  },
  {
   "cell_type": "code",
   "execution_count": null,
   "metadata": {},
   "outputs": [],
   "source": []
  },
  {
   "cell_type": "markdown",
   "metadata": {},
   "source": [
    "## Evaluation mit Test-Set\n",
    "### Was sind die Metriken\n",
    "### Wie sieht die Prediction aus"
   ]
  },
  {
   "cell_type": "code",
   "execution_count": null,
   "metadata": {},
   "outputs": [],
   "source": []
  }
 ],
 "metadata": {
  "kernelspec": {
   "display_name": "Python 3",
   "language": "python",
   "name": "python3"
  },
  "language_info": {
   "codemirror_mode": {
    "name": "ipython",
    "version": 3
   },
   "file_extension": ".py",
   "mimetype": "text/x-python",
   "name": "python",
   "nbconvert_exporter": "python",
   "pygments_lexer": "ipython3",
   "version": "3.7.6"
  }
 },
 "nbformat": 4,
 "nbformat_minor": 4
}
