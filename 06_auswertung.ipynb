{
 "cells": [
  {
   "cell_type": "markdown",
   "metadata": {},
   "source": [
    "# Auswertung\n",
    "Wir haben jetzt eine klassische Segmentierung erstellt, ein Noise2Void Modell trainiert um zu entrauschen, sowie das Stardist Modell für *instance segmentation* und zwei U-Nets für *semantic segmentation* erstellt. Nun geht es darum, die Methoden miteinander zu vergleichen, Vor- und Nachteile zu finden. Dabei gibt es natürlich qualitative Unterschiede, die man direkt mit dem Auge schon entdeckt hat. Wir sollten diese Unterschiede aber auch objektiv mit quantitativen Methoden untersuchen. *Recall*, *Precision* und *F1-Score* sind Größen, die dafür in Frage kommen.\n",
    "\n",
    "Damit die Modelle vorurteilsfrei evaluiert werden können, verwenden wir nun das Test Set."
   ]
  },
  {
   "cell_type": "code",
   "execution_count": null,
   "metadata": {},
   "outputs": [],
   "source": [
    "from __future__ import print_function, unicode_literals, absolute_import, division\n",
    "import sys\n",
    "import scipy\n",
    "import skimage\n",
    "from skimage import restoration\n",
    "from skimage import filters\n",
    "import tensorflow as tf\n",
    "import numpy as np\n",
    "import matplotlib.pyplot as plt\n",
    "from matplotlib_scalebar.scalebar import ScaleBar\n",
    "%matplotlib inline\n",
    "%config InlineBackend.figure_format = 'retina'\n",
    "\n",
    "from tqdm import tqdm\n",
    "from skimage.measure import label, regionprops\n",
    "from glob import glob\n",
    "from tifffile import imread\n",
    "from csbdeep.utils import Path, normalize\n",
    "from csbdeep.io import save_tiff_imagej_compatible\n",
    "\n",
    "from stardist import random_label_cmap, _draw_polygons, export_imagej_rois\n",
    "from stardist.matching import matching_dataset\n",
    "from stardist.models import StarDist2D\n",
    "\n",
    "from n2v.models import N2VConfig, N2V\n",
    "from n2v.utils.n2v_utils import manipulate_val_data\n",
    "from n2v.internals.N2V_DataGenerator import N2V_DataGenerator\n",
    "\n",
    "\n",
    "from csbdeep.utils import plot_history\n",
    "\n",
    "#np.random.seed(6)\n",
    "lbl_cmap = random_label_cmap()\n",
    "%env CUDA_DEVICE_ORDER=PCI_BUS_ID\n",
    "%env CUDA_VISIBLE_DEVICES=0\n",
    "# We import all our dependencies."
   ]
  },
  {
   "cell_type": "markdown",
   "metadata": {},
   "source": [
    "## Qualitativer Vergleich Entrauschen\n",
    "Wir wollen nun einen Vergleich der verschiedenen Entrauschungsmethoden vornehmen. Hier verwenden wir ein Bild aus dem Validierungsset. Wir zeigen das Input Bild, und verschiedene klassische Denoising Methoden zum Vergleich. Warum können wir mit unseren Daten keinen quantitativen Vergleich vornehmen, bspw. mittels Peak Signal to Noise Ratio (PSNR)?\n",
    "\n",
    "### Daten"
   ]
  },
  {
   "cell_type": "code",
   "execution_count": null,
   "metadata": {},
   "outputs": [],
   "source": [
    "datagen = N2V_DataGenerator()\n",
    "imgs = datagen.load_imgs_from_directory(directory = \"/extdata/readonly/f-prak-v15/v-cholera-biofilm\")\n",
    "# wir verwenden nur die Validation Bilder\n",
    "imgs = imgs[len(imgs)//4:]\n",
    "# und wählen eines der Bilder zufällig aus\n",
    "raw = img = imgs[np.random.randint(0, len(imgs))][0, ..., 0]"
   ]
  },
  {
   "cell_type": "code",
   "execution_count": null,
   "metadata": {},
   "outputs": [],
   "source": [
    "# denoise mit Gauß\n",
    "gauss = filters.gaussian(raw.astype(float), 0.8)\n",
    "# denoise mit non-local mean\n",
    "# https://scikit-image.org/docs/dev/auto_examples/filters/plot_nonlocal_means.html\n",
    "sigma = restoration.estimate_sigma(raw, multichannel=False)\n",
    "nlm = restoration.denoise_nl_means(\n",
    "    raw, h=0.8*sigma, sigma=sigma, fast_mode=True,\n",
    "    patch_size=10, patch_distance=13,\n",
    ")\n",
    "# Zuletzt denoising mit stardist\n",
    "model = N2V(config=None, name=\"n2v_biofilm\", basedir=\"models\")\n",
    "denoise_n2v = model.predict(raw, axes='YX')"
   ]
  },
  {
   "cell_type": "markdown",
   "metadata": {},
   "source": [
    "Nun vergleichen wir die entrauschten Bilder und einen Aussschnitt aus den Bildern."
   ]
  },
  {
   "cell_type": "code",
   "execution_count": null,
   "metadata": {},
   "outputs": [],
   "source": [
    "def plot_effect(imgs, labels, cmaps=None):\n",
    "    cols = len(imgs)\n",
    "    rows = len(imgs[0])\n",
    "    if cmaps is None:\n",
    "        cmaps = [None,] * rows\n",
    "    fig, axes = plt.subplots(cols, rows, figsize=[16, cols*5])\n",
    "    for i in range(cols):\n",
    "        for j in range(rows):\n",
    "            try:\n",
    "                ax = axes[i, j]\n",
    "            except IndexError:\n",
    "                ax = axes[j]\n",
    "            if not imgs[i][j] is None:\n",
    "                ax.imshow(imgs[i][j], cmap=cmaps[j])\n",
    "                ax.axis(\"off\")\n",
    "                ax.set_title(labels[i][j])\n",
    "            else:\n",
    "                ax.remove()\n",
    "\n",
    "slx = slice(450,550)\n",
    "sly = slice(450,550)\n",
    "out = [raw, gauss, nlm, denoise_n2v]\n",
    "\n",
    "plot_effect(\n",
    "    [\n",
    "        out,\n",
    "        [o[sly,slx] for o in out],\n",
    "    ],\n",
    "    [\n",
    "        [\"raw\", \"gauss filter size=0.8\", \"nlm sigma={:1.0f}\".format(sigma), \"n2v\"],\n",
    "        [\"\"]*4\n",
    "    ]\n",
    ")"
   ]
  },
  {
   "cell_type": "markdown",
   "metadata": {},
   "source": [
    "## Aufgabe 6-1\n",
    "Verbessert die obige Abbildung, sodass für beide Zeilen eine Scalebar vorhanden ist. Außerdem sollte erkenntlich sein, von wo der Ausschnit in der unteren Zeile stammt. Vergleich in der Auswertung die Bilder qualitativ."
   ]
  },
  {
   "cell_type": "markdown",
   "metadata": {},
   "source": [
    "## GPU leeren\n",
    "Damit wir im folgenden die GPU mit anderen Modellen beladen können, befreien wir die GPU nun vom N2V Modell."
   ]
  },
  {
   "cell_type": "code",
   "execution_count": null,
   "metadata": {},
   "outputs": [],
   "source": [
    "del model\n",
    "tf.keras.backend.clear_session()"
   ]
  },
  {
   "cell_type": "markdown",
   "metadata": {},
   "source": [
    "## Quantitativer Vergleich Segmentierung\n",
    "Kopiert aus dem zweiten Notebook eure Segmentier Funktion."
   ]
  },
  {
   "cell_type": "code",
   "execution_count": null,
   "metadata": {},
   "outputs": [],
   "source": [
    "def segment(x):\n",
    "    gauss = filters.gaussian(x.astype(float), 2)\n",
    "    white_tophat = scipy.ndimage.morphology.white_tophat(gauss, 10)\n",
    "    thresh = filters.threshold_otsu(white_tophat)\n",
    "    binary = white_tophat > thresh\n",
    "    labelmap = label(binary)\n",
    "    return labelmap"
   ]
  },
  {
   "cell_type": "markdown",
   "metadata": {},
   "source": [
    "### Daten laden"
   ]
  },
  {
   "cell_type": "code",
   "execution_count": null,
   "metadata": {},
   "outputs": [],
   "source": [
    "X_glob = sorted(glob('/extdata/readonly/f-prak-v15/e-coli-swarming/test/input/*.tif'))\n",
    "Y_glob = sorted(glob('/extdata/readonly/f-prak-v15/e-coli-swarming/test/labels/*.tif'))\n",
    "X = [x.astype(int) for x in list(map(imread, X_glob))]\n",
    "Y = [x.astype(int) for x in list(map(imread, Y_glob))]"
   ]
  },
  {
   "cell_type": "code",
   "execution_count": null,
   "metadata": {},
   "outputs": [],
   "source": [
    "model_stardist = StarDist2D(None, name='mystardist-1', basedir='04_stardist/models')\n",
    "# ladet auch eure anderen UNet models"
   ]
  },
  {
   "cell_type": "code",
   "execution_count": null,
   "metadata": {},
   "outputs": [],
   "source": [
    "Y_klassisch = [segment(x) for x in X]\n",
    "Y_stardist = [\n",
    "    model_stardist.predict_instances(normalize(x, 1, 99.8, axis=(0,1))) for x in X\n",
    "]\n",
    "Y_stardist_label = [x[0] for x in Y_stardist]\n",
    "# predictions für eure Models sollen hier hin\n"
   ]
  },
  {
   "cell_type": "code",
   "execution_count": null,
   "metadata": {},
   "outputs": [],
   "source": [
    "taus = [0.1, 0.2, 0.3, 0.4, 0.5, 0.6, 0.7, 0.8, 0.9]\n",
    "stats_tat = [matching_dataset(Y, Y, thresh=t, show_progress=False) for t in tqdm(taus)]\n",
    "stats_klassisch = [matching_dataset(Y, Y_klassisch, thresh=t, show_progress=False) for t in tqdm(taus)]\n",
    "stats_stardist = [matching_dataset(Y, Y_stardist_label, thresh=t, show_progress=False) for t in tqdm(taus)]"
   ]
  },
  {
   "cell_type": "code",
   "execution_count": null,
   "metadata": {},
   "outputs": [],
   "source": [
    "fig, axes = plt.subplots(3,2, figsize=(15,21))\n",
    "\n",
    "def plot_stats(stats, ax1, ax2, title):\n",
    "    for m in ('precision', 'recall', 'accuracy', 'f1', 'mean_true_score'):\n",
    "        ax1.plot(taus, [s._asdict()[m] for s in stats], '.-', lw=2, label=m)\n",
    "    ax1.set_xlabel(r'IoU threshold $\\tau$')\n",
    "    ax1.set_ylabel('Metric value')\n",
    "    ax1.grid()\n",
    "    ax1.legend()\n",
    "    ax1.set_title(title)\n",
    "\n",
    "    for m in ('fp', 'tp', 'fn'):\n",
    "        ax2.plot(taus, [s._asdict()[m] for s in stats], '.-', lw=2, label=m)\n",
    "    ax2.set_xlabel(r'IoU threshold $\\tau$')\n",
    "    ax2.set_ylabel('Number #')\n",
    "    ax2.grid()\n",
    "    ax2.legend();\n",
    "plot_stats(stats_klassisch, axes[0, 0], axes[0, 1], \"klassische Segmentierung\")\n",
    "plot_stats(stats_stardist, axes[1, 0], axes[1, 1], \"stardist Segmentierung\")\n",
    "#'plot_stats(stats_tat, axes[2, 0], axes[2, 1], \"wenn alles komplett richtig ist\")"
   ]
  },
  {
   "cell_type": "markdown",
   "metadata": {},
   "source": [
    "Vergleicht auch die Anzahl der Zellen, die segmentiert worden sind. Gibt es Unterschiede? Wie lassen sich die Unterschiede erklären. Welche weiteren Möglichkeiten gibt es zusammenhängende Zellen in separate Zellen zu separieren.\n",
    "\n",
    "## Qualitativer Vergleich\n",
    "Nun betrachten wir für die verschiedenen Methoden einen Ausschnitt gemeinsam mit der Segmentiermaske."
   ]
  },
  {
   "cell_type": "code",
   "execution_count": null,
   "metadata": {},
   "outputs": [],
   "source": [
    "slx = slice(500, 700)\n",
    "sly = slice(200, 400)\n",
    "i = 0\n",
    "inp = X[i]\n",
    "seg = [y[i] for y in [Y_klassisch, Y_stardist_label, Y]]\n",
    "titles = [\"klassisch\", \"stardist\", \"GT\"]\n",
    "\n",
    "fig, axes = plt.subplots(2, len(seg), figsize=(21,21))\n",
    "for ax, s, title in zip(axes[0,:], seg, titles):\n",
    "    ax.imshow(inp, cmap=\"gray\")\n",
    "    ax.imshow(s, cmap=lbl_cmap, alpha=0.2)\n",
    "    ax.set_title(title)\n",
    "    ax.axis(\"off\")\n",
    "    scalebar = ScaleBar(1/6, \"µm\")\n",
    "    ax.add_artist(scalebar)\n",
    "for ax, s, title in zip(axes[1,:], seg, titles):\n",
    "    ax.imshow(inp[sly, slx], cmap=\"gray\")\n",
    "    ax.imshow(s[sly, slx], cmap=lbl_cmap, alpha=0.2)\n",
    "    ax.set_title(title)\n",
    "    ax.axis(\"off\")\n",
    "    scalebar = ScaleBar(1/6, \"µm\")\n",
    "    ax.add_artist(scalebar)"
   ]
  },
  {
   "cell_type": "code",
   "execution_count": null,
   "metadata": {},
   "outputs": [],
   "source": []
  }
 ],
 "metadata": {
  "kernelspec": {
   "display_name": "Python 3",
   "language": "python",
   "name": "python3"
  },
  "language_info": {
   "codemirror_mode": {
    "name": "ipython",
    "version": 3
   },
   "file_extension": ".py",
   "mimetype": "text/x-python",
   "name": "python",
   "nbconvert_exporter": "python",
   "pygments_lexer": "ipython3",
   "version": "3.7.6"
  }
 },
 "nbformat": 4,
 "nbformat_minor": 4
}
